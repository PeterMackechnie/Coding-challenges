{
 "cells": [
  {
   "cell_type": "markdown",
   "id": "b72b830e",
   "metadata": {},
   "source": [
    "# Blackjack"
   ]
  },
  {
   "cell_type": "markdown",
   "id": "6d22b9ad",
   "metadata": {},
   "source": [
    "## Description"
   ]
  },
  {
   "cell_type": "markdown",
   "id": "df0cc34e",
   "metadata": {},
   "source": [
    "This notebook contains the code for a one player vs dealer version of blackjack. The player starts with 100 dollars, whilst the dealer starts with 10,000. The aim is to try and win all the dealers money without going broke yourself."
   ]
  },
  {
   "cell_type": "markdown",
   "id": "478aa421",
   "metadata": {},
   "source": [
    "## Imports"
   ]
  },
  {
   "cell_type": "code",
   "execution_count": 1,
   "id": "c6a3e875",
   "metadata": {},
   "outputs": [],
   "source": [
    "from random import shuffle\n",
    "from IPython.display import clear_output"
   ]
  },
  {
   "cell_type": "markdown",
   "id": "09e2cd3b",
   "metadata": {},
   "source": [
    "### Card Features"
   ]
  },
  {
   "cell_type": "code",
   "execution_count": 2,
   "id": "3ed41c66",
   "metadata": {},
   "outputs": [],
   "source": [
    "suits = ('Hearts', 'Diamonds', 'Spades', 'Clubs')\n",
    "ranks = ('Two', 'Three', 'Four', 'Five', 'Six', 'Seven', 'Eight', 'Nine', 'Ten', 'Jack', 'Queen', 'King', 'Ace')\n",
    "values = {'Two':2, 'Three':3, 'Four':4, 'Five':5, 'Six':6, 'Seven':7, 'Eight':8, \n",
    "            'Nine':9, 'Ten':10, 'Jack':10, 'Queen':10, 'King':10, 'Ace': [11, 1]}"
   ]
  },
  {
   "cell_type": "markdown",
   "id": "1bed249b",
   "metadata": {},
   "source": [
    "# Classes"
   ]
  },
  {
   "cell_type": "markdown",
   "id": "f561a978",
   "metadata": {},
   "source": [
    "## Card Class"
   ]
  },
  {
   "cell_type": "code",
   "execution_count": 3,
   "id": "4ebfaefd",
   "metadata": {},
   "outputs": [],
   "source": [
    "class Card:\n",
    "    def __init__(self, suit, rank):\n",
    "        self.suit = suit\n",
    "        self.rank = rank\n",
    "\n",
    "    def __str__(self):\n",
    "        return f'{self.rank} of {self.suit} ({values[self.rank]})'"
   ]
  },
  {
   "cell_type": "markdown",
   "id": "37b05e89",
   "metadata": {},
   "source": [
    "## Deck Class"
   ]
  },
  {
   "cell_type": "code",
   "execution_count": 4,
   "id": "52a87145",
   "metadata": {},
   "outputs": [],
   "source": [
    "class Deck:\n",
    "    def __init__(self):\n",
    "        self.cards = []\n",
    "        for i in suits:\n",
    "            for j in ranks:\n",
    "                self.cards.append(Card(i, j))\n",
    "            \n",
    "    def shuffle_cards(self):\n",
    "        shuffle(self.cards)\n",
    "        \n",
    "    def deal(self):\n",
    "        return self.cards.pop()\n",
    "    \n",
    "    def add_card(self, card):\n",
    "        self.cards.append(card)"
   ]
  },
  {
   "cell_type": "markdown",
   "id": "0ca201d4",
   "metadata": {},
   "source": [
    "## Player Class"
   ]
  },
  {
   "cell_type": "code",
   "execution_count": 5,
   "id": "71886150",
   "metadata": {},
   "outputs": [],
   "source": [
    "class Player:\n",
    "    def __init__(self, cash, name):\n",
    "        self.cards = []\n",
    "        self.cash = cash\n",
    "        self.name = name\n",
    "        \n",
    "    def get_card(self, card):\n",
    "        self.cards.append(card)\n",
    "        \n",
    "    def return_card(self):\n",
    "        return self.cards.pop()\n",
    "\n",
    "    def recieve_cash(self, amount):\n",
    "        self.cash += amount\n",
    "        \n",
    "    def give_cash(self, amount):\n",
    "        self.cash += - amount\n",
    "        \n",
    "    def hand(self, hidden = False):\n",
    "        if hidden:\n",
    "            print(self.cards[0], end='.\\n')\n",
    "        else:\n",
    "            print(*self.cards, sep=\", \", end=\".\\n\")\n",
    "                \n",
    "    def score(self):\n",
    "        score, aces = 0, 0\n",
    "        for i in self.cards:\n",
    "            if i.rank == 'Ace':\n",
    "                aces += 1\n",
    "                score += 1\n",
    "            else:\n",
    "                score += values[i.rank]\n",
    "        if aces > 0 and score < 12:\n",
    "            score_1 = score + 10\n",
    "            return [score, score_1]\n",
    "        else:\n",
    "            return [score]"
   ]
  },
  {
   "cell_type": "markdown",
   "id": "4474e115",
   "metadata": {},
   "source": [
    "## Game Functions"
   ]
  },
  {
   "cell_type": "code",
   "execution_count": 6,
   "id": "6bf81ef9",
   "metadata": {},
   "outputs": [],
   "source": [
    "def show_hand_func(player):\n",
    "\n",
    "    print(f\"\\n{player.name}'s cards are:\", end =' ')\n",
    "    player.hand()\n",
    "    print(f\"{player.name}'s score is: {player.score()}.\")\n",
    "    print(\"\")"
   ]
  },
  {
   "cell_type": "code",
   "execution_count": 7,
   "id": "4fa7f9d3",
   "metadata": {},
   "outputs": [],
   "source": [
    "def bet_func(player, dealer):\n",
    "    \n",
    "    max_bet = min(player.cash, dealer.cash)\n",
    "    print(f\"You have ${player.cash} in your account. The {dealer.name} has ${dealer.cash} in their account. The maximum you can bet is ${max_bet}.\")\n",
    "     \n",
    "    while True:\n",
    "        try:\n",
    "            bet = int(input(f\"How much would you like to bet (please input an integer):  $\"))\n",
    "        except:\n",
    "            print('Sorry, that is not a valid amount/bet.')\n",
    "        else:\n",
    "            if bet <= max_bet:\n",
    "                print(\"\")\n",
    "                return bet\n",
    "            else:\n",
    "                print('Sorry, that is not a valid amount/bet.')"
   ]
  },
  {
   "cell_type": "code",
   "execution_count": 8,
   "id": "22dd8e20",
   "metadata": {},
   "outputs": [],
   "source": [
    "def bust_check_func(player):\n",
    "    if min(player.score()) > 21:\n",
    "        return True\n",
    "    else:\n",
    "        return False"
   ]
  },
  {
   "cell_type": "code",
   "execution_count": 9,
   "id": "0c0cc8c7",
   "metadata": {},
   "outputs": [],
   "source": [
    "def another_card_func(player, deck, skip = ''):\n",
    "    answer = skip\n",
    "    \n",
    "    while answer not in ['y', 'n']:\n",
    "        answer = input(\"Would you like another card ('Y' or 'N'):  \").lower()\n",
    "    if answer == 'y':\n",
    "        player.get_card(deck.deal())\n",
    "        return True\n",
    "    else:\n",
    "        return False"
   ]
  },
  {
   "cell_type": "code",
   "execution_count": 10,
   "id": "0719a3c8",
   "metadata": {},
   "outputs": [],
   "source": [
    "def broke_check_func(player, dealer):\n",
    "    \n",
    "    if player.cash == 0:\n",
    "        print(f'You are broke! GAME OVER!')\n",
    "        return True\n",
    "    elif dealer.cash == 0:\n",
    "        print(f'{dealer.name} is broke! CONGRATULATIONS, YOU WON!')\n",
    "        return True\n",
    "    else:\n",
    "        return False"
   ]
  },
  {
   "cell_type": "code",
   "execution_count": 11,
   "id": "b0612e16",
   "metadata": {},
   "outputs": [],
   "source": [
    "def return_cards_to_deck(player, dealer, deck):\n",
    "    \n",
    "    for i in range(len(player.cards)):\n",
    "        deck.add_card(player.return_card())\n",
    "    for j in range(len(dealer.cards)):\n",
    "        deck.add_card(dealer.return_card())"
   ]
  },
  {
   "cell_type": "code",
   "execution_count": 12,
   "id": "413bbeaf",
   "metadata": {},
   "outputs": [],
   "source": [
    "def end_game_func():\n",
    "    stop_game = ''\n",
    "    \n",
    "    while stop_game not in ['yes', 'n']:\n",
    "        stop_game = input(\"Would you like to end the game ('Yes' or 'N'):  \").lower()\n",
    "    if stop_game == 'n':\n",
    "        return False\n",
    "    else:\n",
    "        return True"
   ]
  },
  {
   "cell_type": "markdown",
   "id": "8e86c0a9",
   "metadata": {},
   "source": [
    "## Play The Game"
   ]
  },
  {
   "cell_type": "code",
   "execution_count": 13,
   "id": "e65b24b0",
   "metadata": {},
   "outputs": [],
   "source": [
    "player_name = 'Player'\n",
    "player_money = 100\n",
    "dealer_name = 'House'\n",
    "dealer_money = 10000"
   ]
  },
  {
   "cell_type": "code",
   "execution_count": 14,
   "id": "072ec15a",
   "metadata": {},
   "outputs": [
    {
     "name": "stdout",
     "output_type": "stream",
     "text": [
      "The House's face-up card is the: Six of Hearts (6).\n",
      "\n",
      "Player's cards are: Seven of Diamonds (7), Queen of Diamonds (10).\n",
      "Player's score is: [17].\n",
      "\n",
      "You have $100 in your account. The House has $10000 in their account. The maximum you can bet is $100.\n",
      "How much would you like to bet (please input an integer):  $100\n",
      "\n",
      "Would you like another card ('Y' or 'N'):  n\n",
      "\n",
      "House's cards are: Six of Hearts (6), Ace of Spades ([11, 1]), Four of Spades (4).\n",
      "House's score is: [11, 21].\n",
      "\n",
      "House Won round!\n",
      "----------------------------------------------------------------------------------------------------------------------------\n",
      "\n",
      "                                      $100.00 Removed from Player's account.\n",
      "\n",
      "                                           Account currently sits at:$0.00\n",
      "\n",
      "----------------------------------------------------------------------------------------------------------------------------\n",
      "You are broke! GAME OVER!\n"
     ]
    }
   ],
   "source": [
    "###################### CREATE OBJECTS#################\n",
    "deck = Deck()\n",
    "player = Player(player_money, player_name)\n",
    "dealer = Player(dealer_money, dealer_name)\n",
    "\n",
    "broke = False\n",
    "while not broke:\n",
    "    return_cards_to_deck(player, dealer, deck)\n",
    "    deck.shuffle_cards()\n",
    "    clear_output()\n",
    "    \n",
    "    ##################### DEAL CARDS AND DISPLAY HANDS ##############\n",
    "    for i in range(2):\n",
    "        player.get_card(deck.deal())\n",
    "        dealer.get_card(deck.deal())\n",
    "\n",
    "    print(f\"The {dealer.name}'s face-up card is the:\", end=\" \")\n",
    "    dealer.hand(True)\n",
    "    show_hand_func(player)\n",
    "\n",
    "    ################### TAKE BET #######################\n",
    "    bet = bet_func(player, dealer)\n",
    "\n",
    "    ################### PLAYER BUST CHECK #################\n",
    "    player_bust = False\n",
    "\n",
    "    while not player_bust:\n",
    "        ################# PLAYER DRAW ANOTHER CARD #################\n",
    "        new_card = another_card_func(player, deck)  \n",
    "        if new_card:\n",
    "            show_hand_func(player)\n",
    "            player_bust = bust_check_func(player)\n",
    "            if player_bust:\n",
    "                print(f'{player.name} is bust! Round over!')    \n",
    "        else:\n",
    "            break      \n",
    "\n",
    "    ################### DEALER BUST CHECK DRAW ANOTHER CARD #################  \n",
    "    dealer_bust = False\n",
    "\n",
    "    while (not dealer_bust) and (not player_bust):\n",
    "        if max(dealer.score()) <= max(player.score()):\n",
    "            another_card_func(dealer, deck, skip= 'y')\n",
    "            dealer_bust = bust_check_func(dealer)\n",
    "        else:\n",
    "            show_hand_func(dealer)            \n",
    "            print(f'{dealer.name} Won round!')\n",
    "            break\n",
    "\n",
    "    ###################### RETURN RESULT #####################    \n",
    "    if dealer_bust:\n",
    "        show_hand_func(dealer)        \n",
    "        print(f\"{dealer.name} is bust! {player.name} won round!\")\n",
    "        player.recieve_cash(bet)\n",
    "        dealer.give_cash(bet)\n",
    "        print(f\"{'-'*124}\\n\\n{' '*38}${bet}.00 Added to {player.name}'s account.\\n\\n{' '*43}Account currently sits at:${player.cash}.00\\n\\n{'-'*124}\")\n",
    "    else:\n",
    "        dealer.recieve_cash(bet)\n",
    "        player.give_cash(bet)  \n",
    "        print(f\"{'-'*124}\\n\\n{' '*38}${bet}.00 Removed from {player.name}'s account.\\n\\n{' '*43}Account currently sits at:${player.cash}.00\\n\\n{'-'*124}\")\n",
    "\n",
    "    ########################### CHECK WHETHER DEALER OR PLAYER IS BROKE #################################\n",
    "    broke = broke_check_func(player, dealer)\n",
    "    if broke == False:\n",
    "        broke = end_game_func()"
   ]
  },
  {
   "cell_type": "code",
   "execution_count": null,
   "id": "48ed47e1",
   "metadata": {},
   "outputs": [],
   "source": []
  }
 ],
 "metadata": {
  "kernelspec": {
   "display_name": "Python 3 (ipykernel)",
   "language": "python",
   "name": "python3"
  },
  "language_info": {
   "codemirror_mode": {
    "name": "ipython",
    "version": 3
   },
   "file_extension": ".py",
   "mimetype": "text/x-python",
   "name": "python",
   "nbconvert_exporter": "python",
   "pygments_lexer": "ipython3",
   "version": "3.9.17"
  }
 },
 "nbformat": 4,
 "nbformat_minor": 5
}
