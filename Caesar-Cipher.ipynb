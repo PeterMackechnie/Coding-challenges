{
 "cells": [
  {
   "cell_type": "markdown",
   "id": "6c02a81c",
   "metadata": {},
   "source": [
    "# Caesar Cipher"
   ]
  },
  {
   "cell_type": "markdown",
   "id": "13416848",
   "metadata": {},
   "source": [
    "## Class"
   ]
  },
  {
   "cell_type": "code",
   "execution_count": 1,
   "id": "24040360",
   "metadata": {},
   "outputs": [],
   "source": [
    "class CaesarCipher:\n",
    "    '''A simple implementation of the Caesar Cipher.\\n\n",
    "    shift: amount by which to shift each character.\n",
    "    c_list: list of characters to be used when\n",
    "                    encoding and decoding.'''\n",
    "    \n",
    "    def __init__(self, shift, c_list):\n",
    "        self.shift = shift\n",
    "        self.c_list = c_list\n",
    "        self.length = len(c_list)\n",
    "        \n",
    "    def encode(self, text, forward = 1):\n",
    "        encoded_text = ''\n",
    "        for char in text.lower():\n",
    "            if char not in self.c_list:\n",
    "                encoded_text += char\n",
    "            else: \n",
    "                encoded_text  += self.c_list[(self.c_list.index(char) + self.shift * forward) % self.length]\n",
    "        return encoded_text\n",
    "    \n",
    "    def decode(self, text, backward = 1):\n",
    "        return self.encode(text, -backward)\n",
    "        "
   ]
  },
  {
   "cell_type": "markdown",
   "id": "581d71d0",
   "metadata": {},
   "source": [
    "## Test"
   ]
  },
  {
   "cell_type": "code",
   "execution_count": 2,
   "id": "1609a287",
   "metadata": {
    "scrolled": true
   },
   "outputs": [],
   "source": [
    "CHARACTERS = ['a', 'b', 'c', 'd', 'e', 'f', 'g', 'h', 'i', 'j', 'k', 'l', 'm', 'n', 'o', 'p', 'q', 'r', 's', 't', 'u',\n",
    "              'v', 'w', 'x', 'y', 'z']"
   ]
  },
  {
   "cell_type": "code",
   "execution_count": 3,
   "id": "4afbcf65",
   "metadata": {},
   "outputs": [],
   "source": [
    "message = 'This is a secret message that needs to be encrypted.'"
   ]
  },
  {
   "cell_type": "code",
   "execution_count": 4,
   "id": "6fc25ae9",
   "metadata": {},
   "outputs": [],
   "source": [
    "caesar_cipher = CaesarCipher(shift= 11, c_list= CHARACTERS)"
   ]
  },
  {
   "cell_type": "code",
   "execution_count": 5,
   "id": "c99c5810",
   "metadata": {},
   "outputs": [
    {
     "data": {
      "text/plain": [
       "'estd td l dpncpe xpddlrp esle yppod ez mp pyncjaepo.'"
      ]
     },
     "execution_count": 5,
     "metadata": {},
     "output_type": "execute_result"
    }
   ],
   "source": [
    "encrypted_message = caesar_cipher.encode(message)\n",
    "encrypted_message"
   ]
  },
  {
   "cell_type": "code",
   "execution_count": 6,
   "id": "f372ac6f",
   "metadata": {},
   "outputs": [
    {
     "data": {
      "text/plain": [
       "'this is a secret message that needs to be encrypted.'"
      ]
     },
     "execution_count": 6,
     "metadata": {},
     "output_type": "execute_result"
    }
   ],
   "source": [
    "decrypted_message = caesar_cipher.decode(encrypted_message)\n",
    "decrypted_message"
   ]
  },
  {
   "cell_type": "code",
   "execution_count": null,
   "id": "faf470d2",
   "metadata": {},
   "outputs": [],
   "source": []
  }
 ],
 "metadata": {
  "kernelspec": {
   "display_name": "Python 3 (ipykernel)",
   "language": "python",
   "name": "python3"
  },
  "language_info": {
   "codemirror_mode": {
    "name": "ipython",
    "version": 3
   },
   "file_extension": ".py",
   "mimetype": "text/x-python",
   "name": "python",
   "nbconvert_exporter": "python",
   "pygments_lexer": "ipython3",
   "version": "3.9.17"
  }
 },
 "nbformat": 4,
 "nbformat_minor": 5
}
