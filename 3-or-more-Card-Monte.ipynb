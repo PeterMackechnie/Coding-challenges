{
 "cells": [
  {
   "cell_type": "markdown",
   "id": "af0190f3",
   "metadata": {},
   "source": [
    "# 3 (or more) Card Monte"
   ]
  },
  {
   "cell_type": "markdown",
   "id": "ee453155",
   "metadata": {},
   "source": [
    "## Description"
   ]
  },
  {
   "cell_type": "markdown",
   "id": "dd56f0b6",
   "metadata": {},
   "source": [
    "3 card monte (or find the lady) is a game where the player is first presented with 3 playing cards face up (one of them a queen). The cards are then turned face down before being swiftly rearranged before the player whose objective is to keep track of which card is the queen. Once the 'rearrangement' is completed, the player is prompted to guess which card they think is the queen.\n",
    "\n",
    "This notebook contains the code for a variation of the game described above. However, it differs in that there is no visual rearrangement of the cards for the player to observe. \n",
    "\n",
    "Note: The player has the option of playing with more than 3 cards if they so wish."
   ]
  },
  {
   "cell_type": "markdown",
   "id": "43edc126",
   "metadata": {},
   "source": [
    "## Imports"
   ]
  },
  {
   "cell_type": "code",
   "execution_count": 1,
   "id": "b3cf011e",
   "metadata": {},
   "outputs": [],
   "source": [
    "from IPython.display import clear_output\n",
    "from random import shuffle, choice"
   ]
  },
  {
   "cell_type": "markdown",
   "id": "91603dc5",
   "metadata": {},
   "source": [
    "## Functions"
   ]
  },
  {
   "cell_type": "code",
   "execution_count": 2,
   "id": "c68b8aa7",
   "metadata": {},
   "outputs": [],
   "source": [
    "def pick_deck_size():\n",
    "    no_of_cards = ''\n",
    "    \n",
    "    while no_of_cards not in ['3', '4', '5', '6', '7', '8', '9']:\n",
    "        no_of_cards = input('How many cards would you like to play with? Choose a number from 3 to 9:  ')\n",
    "    return int(no_of_cards)"
   ]
  },
  {
   "cell_type": "code",
   "execution_count": 3,
   "id": "4e49fe6b",
   "metadata": {},
   "outputs": [],
   "source": [
    "def deck_generator(no_of_cards):\n",
    "    CARDS = ['JOKER', 'KING ', 'JACK ', ' ACE ']\n",
    "    deck = ['QUEEN']\n",
    "    positions = ['  1  ']\n",
    "    \n",
    "    for i in range(1, no_of_cards):\n",
    "        deck.append(choice(CARDS))\n",
    "        positions.append(f'  {i+1}  ')\n",
    "    return deck, positions"
   ]
  },
  {
   "cell_type": "code",
   "execution_count": 4,
   "id": "1685b2fb",
   "metadata": {},
   "outputs": [],
   "source": [
    "def shuffle_cards(deck):\n",
    "    shuffle(deck)\n",
    "    return deck"
   ]
  },
  {
   "cell_type": "code",
   "execution_count": 5,
   "id": "0483fef9",
   "metadata": {},
   "outputs": [],
   "source": [
    "def display_cards(c_list, no_of_cards):\n",
    "    card_visual = ['+-------+' , '|   {p_holder}   |']\n",
    "    CARD_HEIGHT = 5\n",
    "    \n",
    "    for n in range(no_of_cards):\n",
    "        print(card_visual[0], end=\"  \")\n",
    "    print(\"\")\n",
    "    \n",
    "    for i in range(CARD_HEIGHT):\n",
    "        for j in range(no_of_cards):\n",
    "            print(card_visual[1].format(p_holder = c_list[j][i]), end=\"  \")\n",
    "        print(\"\")\n",
    "        \n",
    "    for n in range(no_of_cards):\n",
    "        print(card_visual[0], end=\"  \")\n",
    "    print(\"\")"
   ]
  },
  {
   "cell_type": "code",
   "execution_count": 6,
   "id": "b579f6e9",
   "metadata": {},
   "outputs": [],
   "source": [
    "def player_guess(no_of_cards):\n",
    "    \n",
    "    possible_guesses = [f'{i}' for i in range(1,(no_of_cards+1))]\n",
    "    guess = 0\n",
    "    \n",
    "    while guess not in possible_guesses: \n",
    "        guess = input('Which card do you think is the Queen? eg. 3:  ')\n",
    "    return int(guess)"
   ]
  },
  {
   "cell_type": "code",
   "execution_count": 7,
   "id": "f2048abb",
   "metadata": {},
   "outputs": [],
   "source": [
    "def check_guess(deck, guess):\n",
    "    \n",
    "    if deck[guess-1] == 'QUEEN':\n",
    "        print('Congratulations! You guessed correctly!')\n",
    "    else:\n",
    "        print(f'Sorry, you guessed wrong! The Queen was card number {deck.index(\"QUEEN\")+1}.')"
   ]
  },
  {
   "cell_type": "markdown",
   "id": "739a69e4",
   "metadata": {},
   "source": [
    "## Play The Game"
   ]
  },
  {
   "cell_type": "code",
   "execution_count": 8,
   "id": "fa76faf4",
   "metadata": {},
   "outputs": [
    {
     "name": "stdout",
     "output_type": "stream",
     "text": [
      "How many cards would you like to play with? Choose a number from 3 to 9:  8\n",
      "+-------+  +-------+  +-------+  +-------+  +-------+  +-------+  +-------+  +-------+  \n",
      "|       |  |       |  |       |  |       |  |       |  |       |  |       |  |       |  \n",
      "|       |  |       |  |       |  |       |  |       |  |       |  |       |  |       |  \n",
      "|   1   |  |   2   |  |   3   |  |   4   |  |   5   |  |   6   |  |   7   |  |   8   |  \n",
      "|       |  |       |  |       |  |       |  |       |  |       |  |       |  |       |  \n",
      "|       |  |       |  |       |  |       |  |       |  |       |  |       |  |       |  \n",
      "+-------+  +-------+  +-------+  +-------+  +-------+  +-------+  +-------+  +-------+  \n",
      "Which card do you think is the Queen? eg. 3:  5\n",
      "+-------+  +-------+  +-------+  +-------+  +-------+  +-------+  +-------+  +-------+  \n",
      "|   K   |  |   K   |  |   J   |  |   K   |  |   J   |  |   Q   |  |   J   |  |   J   |  \n",
      "|   I   |  |   I   |  |   A   |  |   I   |  |   A   |  |   U   |  |   O   |  |   A   |  \n",
      "|   N   |  |   N   |  |   C   |  |   N   |  |   C   |  |   E   |  |   K   |  |   C   |  \n",
      "|   G   |  |   G   |  |   K   |  |   G   |  |   K   |  |   E   |  |   E   |  |   K   |  \n",
      "|       |  |       |  |       |  |       |  |       |  |   N   |  |   R   |  |       |  \n",
      "+-------+  +-------+  +-------+  +-------+  +-------+  +-------+  +-------+  +-------+  \n",
      "Sorry, you guessed wrong! The Queen was card number 6.\n",
      "Would you like to play again (\"Yes\" or \"N\"):  n\n"
     ]
    }
   ],
   "source": [
    "answer = 'yes'\n",
    "\n",
    "while answer == 'yes':\n",
    "\n",
    "#   Allow the player to choose how many cards they would like to play the game with.\n",
    "    number_of_cards = pick_deck_size()\n",
    "    \n",
    "#   Generate the deck to be used in the game, as well as a list of positions for the player to choose from.\n",
    "    deck, positions = deck_generator(number_of_cards)\n",
    "    \n",
    "#   Shuffle the deck.\n",
    "    deck = shuffle_cards(deck)\n",
    "    \n",
    "#   Display the deck face down with each cards position clearly marked.\n",
    "    display_cards(positions, number_of_cards)\n",
    "    \n",
    "#   ALlow the player to guess the position of the Queen.\n",
    "    guess = player_guess(number_of_cards)\n",
    "    \n",
    "#   Display the (shuffled) deck face up.\n",
    "    display_cards(deck, number_of_cards)\n",
    "    \n",
    "#   Check the player's guess and return whether they were successful or not.\n",
    "    check_guess(deck, guess)\n",
    "    \n",
    "#   Check to see whether the player wishes to play again.\n",
    "    answer = input('Would you like to play again (\"Yes\" or \"N\"):  ').lower()\n",
    "    \n",
    "    if answer == 'yes':\n",
    "        clear_output()"
   ]
  },
  {
   "cell_type": "code",
   "execution_count": null,
   "id": "b7332f1a",
   "metadata": {},
   "outputs": [],
   "source": []
  }
 ],
 "metadata": {
  "kernelspec": {
   "display_name": "Python 3 (ipykernel)",
   "language": "python",
   "name": "python3"
  },
  "language_info": {
   "codemirror_mode": {
    "name": "ipython",
    "version": 3
   },
   "file_extension": ".py",
   "mimetype": "text/x-python",
   "name": "python",
   "nbconvert_exporter": "python",
   "pygments_lexer": "ipython3",
   "version": "3.9.17"
  }
 },
 "nbformat": 4,
 "nbformat_minor": 5
}
