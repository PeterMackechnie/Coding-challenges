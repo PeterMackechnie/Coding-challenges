{
 "cells": [
  {
   "cell_type": "markdown",
   "id": "f55789e6",
   "metadata": {},
   "source": [
    "# Tic-Tac-Toe (a.k.a Noughts and Crosses)"
   ]
  },
  {
   "cell_type": "markdown",
   "id": "edf2706a",
   "metadata": {},
   "source": [
    "## Description"
   ]
  },
  {
   "cell_type": "markdown",
   "id": "f8f0dcd8",
   "metadata": {},
   "source": [
    "This notebook contains the code for a two player (human vs human) game of tic-tac-toe."
   ]
  },
  {
   "cell_type": "markdown",
   "id": "4b913b65",
   "metadata": {},
   "source": [
    "## Imports"
   ]
  },
  {
   "cell_type": "code",
   "execution_count": 1,
   "id": "6557059c",
   "metadata": {},
   "outputs": [],
   "source": [
    "from IPython.display import clear_output"
   ]
  },
  {
   "cell_type": "markdown",
   "id": "94e37c8d",
   "metadata": {},
   "source": [
    "## Functions"
   ]
  },
  {
   "cell_type": "code",
   "execution_count": 2,
   "id": "602ae414",
   "metadata": {},
   "outputs": [],
   "source": [
    "def welcome_and_select():\n",
    "    choice = ''\n",
    "    p1, p2 = 'O', 'X'\n",
    "    \n",
    "    while choice not in ['x', 'o']:\n",
    "        choice = input(\"Welcome to Tic Tac Toe!\\nPlayer 1, would you like to be 'O' or 'X':  \").lower()\n",
    "    if choice == 'x':\n",
    "        p1, p2 = 'X', 'O'\n",
    "    print(f\"Player 1 will be '{p1}' and Player 2 will be '{p2}'\")\n",
    "    return p1, p2"
   ]
  },
  {
   "cell_type": "code",
   "execution_count": 3,
   "id": "59c14b3b",
   "metadata": {},
   "outputs": [],
   "source": [
    "def display_board(x):\n",
    "    print('\\nReference Grid:        Board:')\n",
    "    print('+-----------+          +-----------+')\n",
    "    print(f'| 7 | 8 | 9 |          | {x[6]} | {x[7]} | {x[8]} |')\n",
    "    print('+-----------+          +-----------+')\n",
    "    print(f'| 4 | 5 | 6 |          | {x[3]} | {x[4]} | {x[5]} |')\n",
    "    print('+-----------+          +-----------+')\n",
    "    print(f'| 1 | 2 | 3 |          | {x[0]} | {x[1]} | {x[2]} |')\n",
    "    print('+-----------+          +-----------+')"
   ]
  },
  {
   "cell_type": "code",
   "execution_count": 4,
   "id": "92cdcfbb",
   "metadata": {},
   "outputs": [],
   "source": [
    "def choose_space(p_no, open_spaces, players):\n",
    "    space = ''\n",
    "    print(f\"Player {p_no}'s turn.\")\n",
    "    \n",
    "    while space not in open_spaces:\n",
    "        space = input(f\"Please choose an open space {open_spaces} to place your mark ('{players[p_no]['mark']}'):  \")\n",
    "    open_spaces.remove(space)\n",
    "    players[p_no]['positions'].append(int(space))\n",
    "    return int(space)"
   ]
  },
  {
   "cell_type": "code",
   "execution_count": 5,
   "id": "ce0334ce",
   "metadata": {},
   "outputs": [],
   "source": [
    "def update_current_board(p_no, space, board, players):\n",
    "    board[space-1] = players[p_no]['mark']"
   ]
  },
  {
   "cell_type": "code",
   "execution_count": 6,
   "id": "d36f3bf3",
   "metadata": {},
   "outputs": [],
   "source": [
    "def check_win(p_no, players):\n",
    "    check_list = [[1, 2, 3], [4, 5, 6], [7, 8, 9], [1, 4, 7], [2, 5, 8], [3, 6, 9], [1, 5, 9], [3, 5, 7]]\n",
    "    \n",
    "    for i in check_list:\n",
    "        if set(i).issubset(set(players[p_no]['positions'])):\n",
    "            print(f'Player {p_no} WON!')\n",
    "            return True\n",
    "    return False"
   ]
  },
  {
   "cell_type": "code",
   "execution_count": 7,
   "id": "2116aba5",
   "metadata": {},
   "outputs": [],
   "source": [
    "def check_spaces_left(open_spaces):\n",
    "    if len(open_spaces) == 0:\n",
    "        print('Draw!\\nGame Over.')\n",
    "        return True\n",
    "    else:\n",
    "        return False"
   ]
  },
  {
   "cell_type": "code",
   "execution_count": 8,
   "id": "57828445",
   "metadata": {},
   "outputs": [],
   "source": [
    "def switch_player(p_no):\n",
    "    if p_no == 1:\n",
    "        return 2\n",
    "    else:\n",
    "        return 1"
   ]
  },
  {
   "cell_type": "code",
   "execution_count": 9,
   "id": "6c41e232",
   "metadata": {},
   "outputs": [],
   "source": [
    "def replay():\n",
    "    play = ''\n",
    "    \n",
    "    while play not in ['y', 'n']:\n",
    "        play = input(\"Would you like to play again ('Y' or 'N'):  \").lower()\n",
    "    if play == 'y':\n",
    "        clear_output()\n",
    "        return True\n",
    "    else:\n",
    "        return False"
   ]
  },
  {
   "cell_type": "markdown",
   "id": "090c1bf7",
   "metadata": {},
   "source": [
    "## Play The Game"
   ]
  },
  {
   "cell_type": "code",
   "execution_count": 11,
   "id": "abcd5612",
   "metadata": {},
   "outputs": [
    {
     "name": "stdout",
     "output_type": "stream",
     "text": [
      "\n",
      "Reference Grid:        Board:\n",
      "+-----------+          +-----------+\n",
      "| 7 | 8 | 9 |          | X | X | O |\n",
      "+-----------+          +-----------+\n",
      "| 4 | 5 | 6 |          | O | X |   |\n",
      "+-----------+          +-----------+\n",
      "| 1 | 2 | 3 |          |   | X | O |\n",
      "+-----------+          +-----------+\n",
      "Player 1 WON!\n",
      "Would you like to play again ('Y' or 'N'):  n\n"
     ]
    }
   ],
   "source": [
    "while True:\n",
    "    current_player = 1\n",
    "    board = [' '] * 9\n",
    "    open_spaces = ['1','2', '3', '4', '5', '6', '7', '8', '9']\n",
    "    players = {1: {'mark': '', 'positions': []}, 2: {'mark': '', 'positions': []}}\n",
    "    players[1]['mark'], players[2]['mark'] = welcome_and_select()\n",
    "    display_board(board)\n",
    "    \n",
    "    while True:   \n",
    "        space = choose_space(current_player, open_spaces, players)\n",
    "        update_current_board(current_player, space, board, players)\n",
    "        \n",
    "        clear_output()\n",
    "        display_board(board)\n",
    "        \n",
    "        if check_win(current_player, players):\n",
    "            break\n",
    "        elif check_spaces_left(open_spaces):\n",
    "            break\n",
    "        \n",
    "        current_player = switch_player(current_player)\n",
    "        \n",
    "    if not replay():\n",
    "        break    "
   ]
  },
  {
   "cell_type": "code",
   "execution_count": null,
   "id": "8035f122",
   "metadata": {},
   "outputs": [],
   "source": []
  }
 ],
 "metadata": {
  "kernelspec": {
   "display_name": "Python 3 (ipykernel)",
   "language": "python",
   "name": "python3"
  },
  "language_info": {
   "codemirror_mode": {
    "name": "ipython",
    "version": 3
   },
   "file_extension": ".py",
   "mimetype": "text/x-python",
   "name": "python",
   "nbconvert_exporter": "python",
   "pygments_lexer": "ipython3",
   "version": "3.9.17"
  }
 },
 "nbformat": 4,
 "nbformat_minor": 5
}
